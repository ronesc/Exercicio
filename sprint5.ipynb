{
 "cells": [
  {
   "cell_type": "code",
   "execution_count": null,
   "id": "e57436c9",
   "metadata": {},
   "outputs": [],
   "source": [
    "# -*- coding: utf-8 -*-\n",
    "try:\n",
    " from os import cpu_count\n",
    "except ImportError:\n",
    "   from multiprocessing import cpu_count\n",
    "\n",
    "print(\"CPUs:\", cpu_count())\n",
    "\n"
   ]
  }
 ],
 "metadata": {
  "language_info": {
   "name": "python"
  }
 },
 "nbformat": 4,
 "nbformat_minor": 5
}
